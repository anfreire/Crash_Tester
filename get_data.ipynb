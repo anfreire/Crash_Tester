{
 "cells": [
  {
   "cell_type": "code",
   "execution_count": 1,
   "metadata": {},
   "outputs": [
    {
     "name": "stderr",
     "output_type": "stream",
     "text": [
      "/tmp/ipykernel_1093839/1642127293.py:8: DeprecationWarning: executable_path has been deprecated, please pass in a Service object\n",
      "  browser = webdriver.Chrome(executable_path=DRIVER_PATH, options=chrome_options)\n"
     ]
    }
   ],
   "source": [
    "from selenium import webdriver\n",
    "from selenium.webdriver.common.by import By\n",
    "from selenium.webdriver.common.keys import Keys\n",
    "from selenium.webdriver.chrome.options import Options\n",
    "chrome_options = Options()\n",
    "chrome_options.add_argument(\"--headless\")\n",
    "DRIVER_PATH = '/usr/local/lib/python3.10/dist-packages/seleniumbase/drivers/chromedriver'\n",
    "browser = webdriver.Chrome(executable_path=DRIVER_PATH, options=chrome_options)\n",
    "url = \"https://www.ethercrash.io/play\"\n",
    "browser.get(url)"
   ]
  },
  {
   "cell_type": "code",
   "execution_count": 2,
   "metadata": {},
   "outputs": [
    {
     "name": "stdout",
     "output_type": "stream",
     "text": [
      "2.61x Saved.\n"
     ]
    }
   ],
   "source": [
    "import time\n",
    "saved_result = ''\n",
    "browser.refresh()\n",
    "history_button = browser.find_element(By.XPATH, '//*[@id=\"tabs-inner-container\"]/div[1]/ul/li[1]/a')\n",
    "history_button.click()\n",
    "time.sleep(5)\n",
    "history_button.click()\n",
    "import re\n",
    "pattern = r'(\\d+.?\\d*)x'\n",
    "while True:\n",
    "\ttry:\n",
    "\t\twith open(\"rslts.txt\", 'a') as w:\n",
    "\t\t\tlast_result = browser.find_element(By.XPATH, '//*[@id=\"games-log-container\"]/div[2]/table/tbody/tr[1]/td[1]')\n",
    "\t\t\tif last_result.text != saved_result:\n",
    "\t\t\t\tw.write(f\"{last_result.text}\\n\")\n",
    "\t\t\t\tprint(f'{last_result.text} Saved.')\n",
    "\t\t\t\tsaved_result = last_result.text\n",
    "\texcept:\n",
    "\t\tprint(\"Error. Determine what occurred. \")\n",
    "\t\tbrowser.refresh()\n",
    "\t\thistory_button = browser.find_element(By.XPATH, '//*[@id=\"tabs-inner-container\"]/div[1]/ul/li[1]/a')\n",
    "\t\thistory_button.click()\n",
    "\t\ttime.sleep(5)\n"
   ]
  }
 ],
 "metadata": {
  "kernelspec": {
   "display_name": "Python 3",
   "language": "python",
   "name": "python3"
  },
  "language_info": {
   "codemirror_mode": {
    "name": "ipython",
    "version": 3
   },
   "file_extension": ".py",
   "mimetype": "text/x-python",
   "name": "python",
   "nbconvert_exporter": "python",
   "pygments_lexer": "ipython3",
   "version": "3.10.6"
  },
  "orig_nbformat": 4,
  "vscode": {
   "interpreter": {
    "hash": "916dbcbb3f70747c44a77c7bcd40155683ae19c65e1c03b4aa3499c5328201f1"
   }
  }
 },
 "nbformat": 4,
 "nbformat_minor": 2
}
