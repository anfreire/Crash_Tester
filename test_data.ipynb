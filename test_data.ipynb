{
 "cells": [
  {
   "cell_type": "code",
   "execution_count": 73,
   "metadata": {},
   "outputs": [],
   "source": [
    "import re\n",
    "import time\n",
    "pattern = r'(\\d+.?\\d*)x\\n*'\n",
    "with open(\"rslts.txt\", 'r') as w:\n",
    "\tlines = w.readlines()\n",
    "results = []\n",
    "for line in lines:\n",
    "\tresults.append(re.findall(pattern, line)[0])"
   ]
  },
  {
   "cell_type": "code",
   "execution_count": 74,
   "metadata": {},
   "outputs": [
    {
     "name": "stdout",
     "output_type": "stream",
     "text": [
      "44.927536231884055%\n"
     ]
    }
   ],
   "source": [
    "def percentage_of_numbers_bigger_than(nbr):\n",
    "\ttam = len(results)\n",
    "\tfor resultado in results:\n",
    "\t\tif float(resultado) <= nbr:\n",
    "\t\t\ttam = tam - 1\n",
    "\tpercentage =  ((tam * 100) / len(results))\n",
    "\treturn f'{percentage}%'\n",
    "\n",
    "print(percentage_of_numbers_bigger_than(2.0))"
   ]
  },
  {
   "cell_type": "code",
   "execution_count": 75,
   "metadata": {},
   "outputs": [
    {
     "name": "stdout",
     "output_type": "stream",
     "text": [
      "Esta perdeste 7.0 :(\n",
      "Esta ganhaste 7.42 :)\n",
      "Esta ganhaste 7.8652 :)\n",
      "Esta ganhaste 8.337112 :)\n",
      "Esta ganhaste 8.83733872 :)\n",
      "Esta ganhaste 9.3675790432 :)\n",
      "Esta ganhaste 9.929633785792 :)\n",
      "Esta ganhaste 10.52541181293952 :)\n",
      "Esta ganhaste 11.156936521715892 :)\n",
      "Esta ganhaste 11.826352713018846 :)\n",
      "Esta ganhaste 12.535933875799977 :)\n",
      "Esta ganhaste 13.288089908347974 :)\n",
      "Esta perdeste 9.301662935843583 :(\n",
      "Esta ganhaste 9.859762711994197 :)\n",
      "Esta ganhaste 10.451348474713848 :)\n",
      "Esta perdeste 7.315943932299694 :(\n",
      "Esta ganhaste 7.754900568237675 :)\n",
      "Esta perdeste 5.428430397766372 :(\n",
      "Esta ganhaste 5.754136221632354 :)\n",
      "Esta ganhaste 6.099384394930295 :)\n",
      "Esta ganhaste 6.465347458626113 :)\n",
      "Esta ganhaste 6.853268306143679 :)\n",
      "Esta ganhaste 7.2644644045123 :)\n",
      "Esta ganhaste 7.700332268783038 :)\n",
      "Esta ganhaste 8.16235220491002 :)\n",
      "Esta ganhaste 8.65209333720462 :)\n"
     ]
    },
    {
     "ename": "KeyboardInterrupt",
     "evalue": "",
     "output_type": "error",
     "traceback": [
      "\u001b[0;31m---------------------------------------------------------------------------\u001b[0m",
      "\u001b[0;31mKeyboardInterrupt\u001b[0m                         Traceback (most recent call last)",
      "Cell \u001b[0;32mIn [75], line 22\u001b[0m\n\u001b[1;32m     20\u001b[0m bet_investment\t\u001b[39m=\u001b[39m \u001b[39m3\u001b[39m\u001b[39m/\u001b[39m\u001b[39m10\u001b[39m\t\u001b[39m#\t1/10\u001b[39;00m\n\u001b[1;32m     21\u001b[0m bet_number \u001b[39m=\u001b[39m \u001b[39m1.2\u001b[39m\t\u001b[39m#\t1.20x\u001b[39;00m\n\u001b[0;32m---> 22\u001b[0m simulacao(investment, bet_investment, bet_number)\n",
      "Cell \u001b[0;32mIn [75], line 14\u001b[0m, in \u001b[0;36msimulacao\u001b[0;34m(investment, bet_investment, bet_number)\u001b[0m\n\u001b[1;32m     12\u001b[0m \t\u001b[39mprint\u001b[39m(\u001b[39m\"\u001b[39m\u001b[39m:(\tFicaste sem cash\t:(\u001b[39m\u001b[39m\"\u001b[39m)\n\u001b[1;32m     13\u001b[0m \t\u001b[39mreturn\u001b[39;00m\n\u001b[0;32m---> 14\u001b[0m time\u001b[39m.\u001b[39;49msleep(\u001b[39m0.2\u001b[39;49m)\n",
      "\u001b[0;31mKeyboardInterrupt\u001b[0m: "
     ]
    }
   ],
   "source": [
    "def\tsimulation(investment, bet_investment, bet_number):\n",
    "\tbet = 0\n",
    "\tfor resultado in results:\n",
    "\t\tbet = investment * bet_investment\n",
    "\t\tinvestment = investment - bet\n",
    "\t\tif float(resultado) > bet_number:\n",
    "\t\t\tinvestment = investment + (bet * bet_number)\n",
    "\t\t\tprint(f\"Win {investment} :)\")\n",
    "\t\telse:\n",
    "\t\t\tprint(f\"Loss {investment} :(\")\n",
    "\t\tif investment < 1:\n",
    "\t\t\tprint(\":(\tNo more Cash\t:(\")\n",
    "\t\t\treturn\n",
    "\t\ttime.sleep(0.2)\n",
    "\t\t\n",
    "\n",
    "\n",
    "\n",
    "investment = 10\t\t#\t10 $\n",
    "bet_investment\t= 3/10\t#\t1/10\n",
    "bet_number = 1.2\t#\t1.20x\n",
    "simulation(investment, bet_investment, bet_number)\n",
    "\n"
   ]
  }
 ],
 "metadata": {
  "kernelspec": {
   "display_name": "Python 3",
   "language": "python",
   "name": "python3"
  },
  "language_info": {
   "codemirror_mode": {
    "name": "ipython",
    "version": 3
   },
   "file_extension": ".py",
   "mimetype": "text/x-python",
   "name": "python",
   "nbconvert_exporter": "python",
   "pygments_lexer": "ipython3",
   "version": "3.10.6"
  },
  "orig_nbformat": 4,
  "vscode": {
   "interpreter": {
    "hash": "916dbcbb3f70747c44a77c7bcd40155683ae19c65e1c03b4aa3499c5328201f1"
   }
  }
 },
 "nbformat": 4,
 "nbformat_minor": 2
}
